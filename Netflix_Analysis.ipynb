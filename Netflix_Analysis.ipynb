{
 "cells": [
  {
   "cell_type": "markdown",
   "id": "5498c9bb",
   "metadata": {},
   "source": [
    "# Netflix Analysis — Improved\n",
    "\n",
    "*Colab-ready. Uses the same dataset path: `/content/Netflix Dataset.csv`*"
   ]
  },
  {
   "cell_type": "code",
   "execution_count": null,
   "id": "2319dd85",
   "metadata": {},
   "outputs": [],
   "source": [
    "# Imports\n",
    "import pandas as pd\n",
    "import numpy as np\n",
    "import matplotlib.pyplot as plt\n",
    "import seaborn as sns\n",
    "import plotly.express as px\n",
    "\n",
    "sns.set(style=\"whitegrid\")\n",
    "plt.rcParams['figure.figsize'] = (10,6)\n"
   ]
  },
  {
   "cell_type": "code",
   "execution_count": null,
   "id": "a7a87594",
   "metadata": {},
   "outputs": [],
   "source": [
    "# Load data\n",
    "DATA_PATH = '/content/Netflix Dataset.csv'\n",
    "df = pd.read_csv(DATA_PATH)\n",
    "df.shape\n"
   ]
  },
  {
   "cell_type": "code",
   "execution_count": null,
   "id": "5b367525",
   "metadata": {},
   "outputs": [],
   "source": [
    "# Quick peek\n",
    "df.head()\n"
   ]
  },
  {
   "cell_type": "code",
   "execution_count": null,
   "id": "34fc0627",
   "metadata": {},
   "outputs": [],
   "source": [
    "# Basic info and types\n",
    "df.info()\n"
   ]
  },
  {
   "cell_type": "code",
   "execution_count": null,
   "id": "cd54aa3b",
   "metadata": {},
   "outputs": [],
   "source": [
    "# Clean column names\n",
    "df.columns = [c.strip().replace(' ', '_').lower() for c in df.columns]\n",
    "df.columns\n"
   ]
  },
  {
   "cell_type": "code",
   "execution_count": null,
   "id": "99154e27",
   "metadata": {},
   "outputs": [],
   "source": [
    "# Standardize missing values\n",
    "df = df.replace({'\\n': np.nan, '': np.nan})\n",
    "df = df.dropna(how='all')\n"
   ]
  },
  {
   "cell_type": "code",
   "execution_count": null,
   "id": "e4d73ddd",
   "metadata": {},
   "outputs": [],
   "source": [
    "# Convert common columns\n",
    "for col in ['release_year']:\n",
    "    if col in df.columns:\n",
    "        df[col] = pd.to_numeric(df[col], errors='coerce').astype('Int64')\n"
   ]
  },
  {
   "cell_type": "code",
   "execution_count": null,
   "id": "4a585058",
   "metadata": {},
   "outputs": [],
   "source": [
    "# Extract common derived columns\n",
    "if 'date_added' in df.columns:\n",
    "    df['date_added'] = pd.to_datetime(df['date_added'], errors='coerce')\n",
    "    df['added_year'] = df['date_added'].dt.year\n",
    "    df['added_month'] = df['date_added'].dt.month\n"
   ]
  },
  {
   "cell_type": "code",
   "execution_count": null,
   "id": "8e2a0e3c",
   "metadata": {},
   "outputs": [],
   "source": [
    "# Split multiple categories (e.g., genres, country) into lists for analysis\n",
    "def split_to_list(x):\n",
    "    if pd.isna(x): return []\n",
    "    return [i.strip() for i in str(x).split(',') if i.strip()]\n",
    "\n",
    "for col in ['country', 'listed_in', 'cast', 'director']:\n",
    "    if col in df.columns:\n",
    "        df[col+'_list'] = df[col].apply(split_to_list)\n"
   ]
  },
  {
   "cell_type": "code",
   "execution_count": null,
   "id": "75a55dff",
   "metadata": {},
   "outputs": [],
   "source": [
    "# Helper: explode column and count\n",
    "def top_n_from_list(col_list_name, n=15):\n",
    "    s = df[col_list_name].explode().dropna()\n",
    "    return s.value_counts().head(n)\n",
    "\n",
    "# Top countries\n",
    "if 'country_list' in df.columns:\n",
    "    top_countries = top_n_from_list('country_list', 20)\n",
    "    top_countries\n"
   ]
  },
  {
   "cell_type": "code",
   "execution_count": null,
   "id": "fb2b3601",
   "metadata": {},
   "outputs": [],
   "source": [
    "# Top categories/listings\n",
    "if 'listed_in_list' in df.columns:\n",
    "    top_genres = top_n_from_list('listed_in_list', 20)\n",
    "    top_genres\n"
   ]
  },
  {
   "cell_type": "code",
   "execution_count": null,
   "id": "2d4110af",
   "metadata": {},
   "outputs": [],
   "source": [
    "# Content type distribution\n",
    "if 'type' in df.columns:\n",
    "    counts = df['type'].value_counts()\n",
    "    counts.plot.pie(autopct='%1.1f%%', ylabel='', title='Content Type Distribution')\n",
    "    plt.show()\n"
   ]
  },
  {
   "cell_type": "code",
   "execution_count": null,
   "id": "d594ece7",
   "metadata": {},
   "outputs": [],
   "source": [
    "# Release year distribution\n",
    "if 'release_year' in df.columns:\n",
    "    sns.histplot(df['release_year'].dropna(), bins=20)\n",
    "    plt.title('Release Year Distribution')\n",
    "    plt.xlabel('Year')\n",
    "    plt.show()\n"
   ]
  },
  {
   "cell_type": "code",
   "execution_count": null,
   "id": "cd7c5e20",
   "metadata": {},
   "outputs": [],
   "source": [
    "# Added year trend (if available)\n",
    "if 'added_year' in df.columns:\n",
    "    trend = df.groupby('added_year').size()\n",
    "    trend.plot(marker='o')\n",
    "    plt.title('Titles Added by Year')\n",
    "    plt.ylabel('Count')\n",
    "    plt.xlabel('Year Added')\n",
    "    plt.show()\n"
   ]
  },
  {
   "cell_type": "code",
   "execution_count": null,
   "id": "5e86cba7",
   "metadata": {},
   "outputs": [],
   "source": [
    "# Duration parsing (for movies with duration like '90 min')\n",
    "if 'duration' in df.columns:\n",
    "    def parse_duration(x):\n",
    "        try:\n",
    "            return int(str(x).split()[0])\n",
    "        except:\n",
    "            return np.nan\n",
    "    df['duration_min'] = df['duration'].apply(parse_duration)\n",
    "    sns.histplot(df['duration_min'].dropna(), bins=20)\n",
    "    plt.title('Duration (minutes)')\n",
    "    plt.xlabel('Minutes')\n",
    "    plt.show()\n"
   ]
  },
  {
   "cell_type": "code",
   "execution_count": null,
   "id": "39a2dfa8",
   "metadata": {},
   "outputs": [],
   "source": [
    "# Top directors\n",
    "if 'director_list' in df.columns:\n",
    "    top_directors = top_n_from_list('director_list', 20)\n",
    "    top_directors\n"
   ]
  },
  {
   "cell_type": "code",
   "execution_count": null,
   "id": "848403da",
   "metadata": {},
   "outputs": [],
   "source": [
    "# Top actors\n",
    "if 'cast_list' in df.columns:\n",
    "    top_actors = top_n_from_list('cast_list', 30)\n",
    "    top_actors\n"
   ]
  },
  {
   "cell_type": "code",
   "execution_count": null,
   "id": "c07eff6d",
   "metadata": {},
   "outputs": [],
   "source": [
    "# Correlations for numeric features\n",
    "num_cols = df.select_dtypes(include=['int64','float64','Int64']).columns.tolist()\n",
    "num_cols = [c for c in num_cols if df[c].nunique()>1]\n",
    "if len(num_cols) >= 2:\n",
    "    corr = df[num_cols].corr()\n",
    "    sns.heatmap(corr, annot=True, fmt='.2f')\n",
    "    plt.title('Numeric Correlations')\n",
    "    plt.show()\n"
   ]
  },
  {
   "cell_type": "code",
   "execution_count": null,
   "id": "a6b74a8c",
   "metadata": {},
   "outputs": [],
   "source": [
    "# Interactive plot: top genres (plotly)\n",
    "if 'listed_in_list' in df.columns:\n",
    "    top_genres = top_n_from_list('listed_in_list', 15).reset_index()\n",
    "    top_genres.columns = ['genre','count']\n",
    "    fig = px.bar(top_genres, x='genre', y='count', title='Top Genres', text='count')\n",
    "    fig.update_layout(xaxis_tickangle=-45)\n",
    "    fig.show()\n"
   ]
  },
  {
   "cell_type": "code",
   "execution_count": null,
   "id": "930442f4",
   "metadata": {},
   "outputs": [],
   "source": [
    "# Save cleaned snapshot for reproducibility\n",
    "os.makedirs('data', exist_ok=True)\n",
    "clean_path = 'data/netflix_cleaned.csv'\n",
    "df.to_csv(clean_path, index=False)\n",
    "clean_path\n"
   ]
  }
 ],
 "metadata": {
  "kernelspec": {
   "display_name": "Python 3",
   "name": "python3"
  },
  "language_info": {
   "name": "python"
  }
 },
 "nbformat": 4,
 "nbformat_minor": 5
}
